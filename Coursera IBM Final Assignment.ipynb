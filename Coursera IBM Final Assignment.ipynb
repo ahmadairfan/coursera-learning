{
 "cells": [
  {
   "cell_type": "markdown",
   "id": "28cb945d",
   "metadata": {},
   "source": [
    "# Coursera IBM Final Assignment\n",
    "This following page will demonstrate how I use Jupyter Notebook."
   ]
  },
  {
   "cell_type": "markdown",
   "id": "906d9f35",
   "metadata": {},
   "source": [
    "## Introduction\n",
    "Firstly, we have to learn how to make a markdown and code cells."
   ]
  },
  {
   "cell_type": "markdown",
   "id": "16af33e2",
   "metadata": {},
   "source": [
    "## Data Science Languages\n",
    "1. Python\n",
    "2. R\n",
    "3. SQL\n",
    "4. Scala\n",
    "5. Java\n",
    "6. C++\n",
    "7. Julia\n",
    "8. JavaScript\n",
    "9. PHP\n",
    "10. Go\n",
    "11. Ruby\n",
    "12. Visual Basic"
   ]
  },
  {
   "cell_type": "markdown",
   "id": "394c09d1",
   "metadata": {},
   "source": [
    "## Data Science Libraries\n",
    "1. Pandas\n",
    "2. Numpy\n",
    "3. Matplotlib\n",
    "4. Seaborn\n",
    "5. Scikit-learn\n",
    "6. Keras\n",
    "7. TensorFlow\n",
    "8. PyTorch\n",
    "9. Apache Spark\n",
    "10. Vegas\n",
    "11. Big DL\n",
    "12. Ggplot2"
   ]
  },
  {
   "cell_type": "markdown",
   "id": "c7af45b5",
   "metadata": {},
   "source": [
    "## Data Science Tools\n",
    "|Data Science Tools|\n",
    "|---|\n",
    "|Anaconda|\n",
    "|Jupyter Notebook|\n",
    "|R Studio|\n",
    "|Spyder|\n",
    "|Zeppelin|"
   ]
  },
  {
   "cell_type": "markdown",
   "id": "e2f3a92d",
   "metadata": {},
   "source": [
    "## Arithmetic Expression Examples\n",
    "Addition (+), Substraction (-), Multiplication (*), Division (/)\n",
    "\n",
    "Below are examples of arithmetic expression:"
   ]
  },
  {
   "cell_type": "code",
   "execution_count": 10,
   "id": "2f905a94",
   "metadata": {},
   "outputs": [
    {
     "name": "stdout",
     "output_type": "stream",
     "text": [
      "multiplied = 12\n",
      "added = 7\n"
     ]
    }
   ],
   "source": [
    "a=3\n",
    "b=4\n",
    "\n",
    "# Example in multiplication\n",
    "multiplied = a*b\n",
    "print('multiplied =',multiplied)\n",
    "\n",
    "# Example in addition\n",
    "added = a+b\n",
    "print('added =',added)"
   ]
  },
  {
   "cell_type": "code",
   "execution_count": 13,
   "id": "3ff29f2e",
   "metadata": {},
   "outputs": [
    {
     "name": "stdout",
     "output_type": "stream",
     "text": [
      "3.3333333333333335\n"
     ]
    }
   ],
   "source": [
    "# Minutes to hours conversion, using multiplication\n",
    "minutes = 200\n",
    "hours = minutes / 60\n",
    "print(hours)"
   ]
  },
  {
   "cell_type": "markdown",
   "id": "e1a8be71",
   "metadata": {},
   "source": [
    "## Objectives\n",
    "1. Add comments to code cells.\n",
    "2. Create markdown cells.\n",
    "3. Add ordered and unordered lists to markdown cells.\n",
    "4. Format content of markdown cells with heading styles."
   ]
  },
  {
   "cell_type": "markdown",
   "id": "63b36321",
   "metadata": {},
   "source": [
    "## Author\n",
    "Adrian Irfan"
   ]
  }
 ],
 "metadata": {
  "kernelspec": {
   "display_name": "Python 3 (ipykernel)",
   "language": "python",
   "name": "python3"
  },
  "language_info": {
   "codemirror_mode": {
    "name": "ipython",
    "version": 3
   },
   "file_extension": ".py",
   "mimetype": "text/x-python",
   "name": "python",
   "nbconvert_exporter": "python",
   "pygments_lexer": "ipython3",
   "version": "3.10.9"
  }
 },
 "nbformat": 4,
 "nbformat_minor": 5
}
