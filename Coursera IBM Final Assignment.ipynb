{
 "cells": [
  {
   "cell_type": "markdown",
   "id": "72c07eb2",
   "metadata": {},
   "source": [
    "# Coursera IBM Final Assignment\n",
    "This following page will demonstrate how I use Jupyter Notebook."
   ]
  },
  {
   "cell_type": "markdown",
   "id": "92a96f27",
   "metadata": {},
   "source": [
    "## Introduction\n",
    "Firstly, we have to learn how to make a markdown and code cells."
   ]
  },
  {
   "cell_type": "markdown",
   "id": "23ebc1d2",
   "metadata": {},
   "source": [
    "## Data Science Languages\n",
    "R, Python, SQL, Scala, etc."
   ]
  },
  {
   "cell_type": "markdown",
   "id": "046e7879",
   "metadata": {},
   "source": [
    "## Data Science Libraries\n",
    "Python: pandas, numpy, SciPy, scikit-learn"
   ]
  },
  {
   "cell_type": "markdown",
   "id": "c92fe1c3",
   "metadata": {},
   "source": [
    "## Data Science Tools\n",
    "|ETL|Machine Learning|Visualization|\n",
    "|---|---|---|\n",
    "|KNIME|R|Tableau|"
   ]
  },
  {
   "cell_type": "markdown",
   "id": "71606a02",
   "metadata": {},
   "source": [
    "## Arithmetic Expression Examples\n",
    "Addition (+), Substraction (-), Multiplication (*), Division (/)"
   ]
  },
  {
   "cell_type": "code",
   "execution_count": 10,
   "id": "26ce5d91",
   "metadata": {},
   "outputs": [
    {
     "name": "stdout",
     "output_type": "stream",
     "text": [
      "multiplied = 12\n",
      "added = 7\n"
     ]
    }
   ],
   "source": [
    "a=3\n",
    "b=4\n",
    "\n",
    "# Example in multiplication\n",
    "multiplied = a*b\n",
    "print('multiplied =',multiplied)\n",
    "\n",
    "# Example in addition\n",
    "added = a+b\n",
    "print('added =',added)"
   ]
  },
  {
   "cell_type": "code",
   "execution_count": 5,
   "id": "1f1afbba",
   "metadata": {},
   "outputs": [
    {
     "name": "stdout",
     "output_type": "stream",
     "text": [
      "300\n"
     ]
    }
   ],
   "source": [
    "# Minutes to hours conversion, using multiplication\n",
    "hours = 5\n",
    "minutes = hours * 60\n",
    "print(minutes)"
   ]
  },
  {
   "cell_type": "markdown",
   "id": "981d6910",
   "metadata": {},
   "source": [
    "## Objectives\n",
    "1. Do X\n",
    "2. Find Y\n",
    "3. Gather Z\n",
    "4. Syntesize solution from X, Y, and Z."
   ]
  },
  {
   "cell_type": "markdown",
   "id": "e35419cd",
   "metadata": {},
   "source": [
    "## Author\n",
    "AIS 2023."
   ]
  },
  {
   "cell_type": "code",
   "execution_count": null,
   "id": "def090f0",
   "metadata": {},
   "outputs": [],
   "source": []
  }
 ],
 "metadata": {
  "kernelspec": {
   "display_name": "Python 3 (ipykernel)",
   "language": "python",
   "name": "python3"
  },
  "language_info": {
   "codemirror_mode": {
    "name": "ipython",
    "version": 3
   },
   "file_extension": ".py",
   "mimetype": "text/x-python",
   "name": "python",
   "nbconvert_exporter": "python",
   "pygments_lexer": "ipython3",
   "version": "3.10.9"
  }
 },
 "nbformat": 4,
 "nbformat_minor": 5
}
